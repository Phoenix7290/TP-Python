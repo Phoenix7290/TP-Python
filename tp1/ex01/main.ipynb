{
 "cells": [
  {
   "cell_type": "code",
   "execution_count": null,
   "id": "03505fd2",
   "metadata": {},
   "outputs": [
    {
     "ename": "",
     "evalue": "",
     "output_type": "error",
     "traceback": [
      "\u001b[1;31mThe kernel failed to start as the Python Environment 'Python' is no longer available. Consider selecting another kernel or refreshing the list of Python Environments."
     ]
    }
   ],
   "source": [
    "nome_estagiario = \"Luiz Paulo\"\n",
    "idade_estagiario = 62\n",
    "codigo_departamento = \"Pedagógico\"\n",
    "print(f\"Nome: {nome_estagiario}\")\n",
    "print(f\"Idade: {idade_estagiario}\")\n",
    "print(f\"Código do Departamento: {codigo_departamento}\")"
   ]
  }
 ],
 "metadata": {
  "kernelspec": {
   "display_name": ".venv",
   "language": "python",
   "name": "python3"
  },
  "language_info": {
   "name": "python",
   "version": "3.13.5"
  }
 },
 "nbformat": 4,
 "nbformat_minor": 5
}
