{
 "cells": [
  {
   "cell_type": "code",
   "execution_count": null,
   "id": "1b5f32db",
   "metadata": {},
   "outputs": [],
   "source": [
    "import importlib\n",
    "import sys\n",
    "import os\n",
    "import time\n",
    "\n",
    "project_root = os.path.abspath(os.path.join(os.path.dirname(os.path.abspath('__file__')), \"..\"))\n",
    "if project_root not in sys.path:\n",
    "    sys.path.append(project_root)\n",
    "    \n",
    "def run_exercise(tp, ex_number):\n",
    "    try:\n",
    "        module = importlib.import_module(f\"tp{tp}.ex{ex_number:02d}.main\")\n",
    "        print(f\"\\nExecuting TP{tp} - Exercise {ex_number:02d}\")\n",
    "        start_time = time.perf_counter()\n",
    "        module.main()  \n",
    "        end_time = time.perf_counter()\n",
    "        print(f\"Execution time: {end_time - start_time:.6f} seconds\")\n",
    "    except (ImportError, AttributeError, Exception) as e:\n",
    "        print(f\"Error running TP{tp} - Exercise {ex_number:02d}: {e}\")\n",
    "        \n",
    "for ex in range(1, 13):  \n",
    "    run_exercise(1, ex)"
   ]
  }
 ],
 "metadata": {
  "language_info": {
   "name": "python"
  }
 },
 "nbformat": 4,
 "nbformat_minor": 5
}
